{
 "cells": [
  {
   "cell_type": "markdown",
   "metadata": {},
   "source": [
    "## 0. Import some necessary modules"
   ]
  },
  {
   "cell_type": "code",
   "execution_count": 26,
   "metadata": {
    "collapsed": true
   },
   "outputs": [],
   "source": [
    "from pickle import load\n",
    "import pandas as pd\n",
    "import numpy as np\n",
    "from tqdm import tqdm\n",
    "import matplotlib.pyplot as plt\n",
    "import seaborn as sns\n",
    "from pprint import pprint\n",
    "from pickle import load, dump, HIGHEST_PROTOCOL\n",
    "import xgboost as xgb\n",
    "from sklearn.decomposition import PCA\n",
    "import os\n",
    "%matplotlib inline"
   ]
  },
  {
   "cell_type": "markdown",
   "metadata": {},
   "source": [
    "## 1. Find out the easily confusable categories for each category based on the predictions of the fine-tuned mode in stage I on both training and test sets\n",
    "### 1.1 Load the necessary data previously saved in the stage I"
   ]
  },
  {
   "cell_type": "code",
   "execution_count": 44,
   "metadata": {
    "collapsed": true
   },
   "outputs": [],
   "source": [
    "# Load the true labels for the images of training and test sets\n",
    "with open('datasets/train_i1.pickle', 'rb') as f:\n",
    "    train_set = np.array(load(f))  \n",
    "with open('datasets/valid_i1.pickle', 'rb') as f:\n",
    "    valid_set = np.array(load(f))\n",
    "\n",
    "labels_train = train_set[:,1].astype('int')\n",
    "labels_valid = valid_set[:,1].astype('int')"
   ]
  },
  {
   "cell_type": "code",
   "execution_count": 45,
   "metadata": {
    "collapsed": true
   },
   "outputs": [],
   "source": [
    "# Load the predicted labels for the images of training and test sets\n",
    "with open('prediction/fine3_train.pickle', 'rb') as f:\n",
    "    predictions_train = np.array(load(f))\n",
    "with open('prediction/fine3_valid.pickle', 'rb') as f:\n",
    "    predictions_valid = np.array(load(f))"
   ]
  },
  {
   "cell_type": "markdown",
   "metadata": {},
   "source": [
    "### 1.2 Calculate the confusion matrix for both the training and validation set respectively and then merge them into a total confusion matrix"
   ]
  },
  {
   "cell_type": "code",
   "execution_count": 46,
   "metadata": {},
   "outputs": [
    {
     "name": "stderr",
     "output_type": "stream",
     "text": [
      "100%|██████████| 5270/5270 [14:09<00:00,  6.21it/s]\n",
      "100%|██████████| 5270/5270 [01:45<00:00, 49.82it/s]\n"
     ]
    }
   ],
   "source": [
    "from collections import Counter\n",
    "\n",
    "matrix_train = []\n",
    "for category in tqdm(range(5270)):\n",
    "    entry = []\n",
    "    indices = [i for i, j in enumerate(predictions_train) if j == category ]\n",
    "    c = Counter(labels_train[indices]) \n",
    "    total_n = len(indices)\n",
    "    for cate in range(5270):\n",
    "        if cate not in c.keys():\n",
    "            entry.append(0)\n",
    "        else:\n",
    "            entry.append(c[cate])\n",
    "    matrix_train.append(entry)\n",
    "matrix_train = np.array(matrix_train)\n",
    "\n",
    "matrix_valid = []\n",
    "for category in tqdm(range(5270)):\n",
    "    entry = []\n",
    "    indices = [i for i, j in enumerate(predictions_valid) if j == category ]\n",
    "    c = Counter(labels_valid[indices]) \n",
    "    total_n = len(indices)\n",
    "    for cate in range(5270):\n",
    "        if cate not in c.keys():\n",
    "            entry.append(0)\n",
    "        else:\n",
    "            entry.append(c[cate])\n",
    "    matrix_valid.append(entry)\n",
    "matrix_valid = np.array(matrix_valid)\n",
    "    "
   ]
  },
  {
   "cell_type": "code",
   "execution_count": 49,
   "metadata": {},
   "outputs": [
    {
     "data": {
      "text/plain": [
       "<matplotlib.colorbar.Colorbar at 0x7f8e86a5fbe0>"
      ]
     },
     "execution_count": 49,
     "metadata": {},
     "output_type": "execute_result"
    },
    {
     "data": {
      "image/png": "[encoded data removed]",
      "text/plain": [
       "<matplotlib.figure.Figure at 0x7f8e8c970f28>"
      ]
     },
     "metadata": {},
     "output_type": "display_data"
    }
   ],
   "source": [
    "# Merge the two confusiong matrix\n",
    "matrix_total = matrix_train + matrix_valid\n",
    "\n",
    "# Visualize the total confusiong matrix\n",
    "plt.imshow(matrix_total, cmap='jet')\n",
    "plt.colorbar()"
   ]
  },
  {
   "cell_type": "markdown",
   "metadata": {},
   "source": [
    "### 1.3 Condense the confusion matrix"
   ]
  },
  {
   "cell_type": "code",
   "execution_count": 50,
   "metadata": {
    "collapsed": true
   },
   "outputs": [],
   "source": [
    "# For each category, list the indices of all its true and false negative categories \n",
    "# as well as their number of occurance in the training and testing sets\n",
    "matrix_total_c = []\n",
    "for i in matrix_total:\n",
    "    item = [[ind, j] for ind, j in enumerate(i) if j] # [..., [index_category_i, number of counts], ...]\n",
    "    matrix_total_c.append(item)"
   ]
  },
  {
   "cell_type": "code",
   "execution_count": 51,
   "metadata": {
    "collapsed": true
   },
   "outputs": [
    {
     "name": "stdout",
     "output_type": "stream",
     "text": [
      "[[1340, 244],\n",
      " [1844, 6],\n",
      " [1330, 4],\n",
      " [177, 3],\n",
      " [1302, 2],\n",
      " [67, 1],\n",
      " [99, 1],\n",
      " [284, 1],\n",
      " [355, 1],\n",
      " [665, 1],\n",
      " [931, 1],\n",
      " [1090, 1],\n",
      " [1112, 1],\n",
      " [1117, 1],\n",
      " [1177, 1],\n",
      " [1200, 1],\n",
      " [1219, 1],\n",
      " [1224, 1],\n",
      " [1260, 1],\n",
      " [1322, 1],\n",
      " [1338, 1],\n",
      " [1395, 1],\n",
      " [1633, 1],\n",
      " [1763, 1],\n",
      " [1806, 1],\n",
      " [1845, 1],\n",
      " [2412, 1],\n",
      " [2555, 1],\n",
      " [2743, 1],\n",
      " [2796, 1],\n",
      " [2805, 1],\n",
      " [2811, 1],\n",
      " [2887, 1],\n",
      " [3488, 1],\n",
      " [3548, 1],\n",
      " [3934, 1],\n",
      " [4061, 1]]\n"
     ]
    }
   ],
   "source": [
    "# Example: true and false categories for category 1340\n",
    "item = matrix_total_c[1340]\n",
    "pprint(sorted(item, key=lambda x: x[1], reverse=True))"
   ]
  },
  {
   "cell_type": "markdown",
   "metadata": {},
   "source": [
    "Totally in the training and the validation set, the category 0 was successfully identified for 21 times but was wrongly recognized as the category 3195 for 2 times, as the category 3206 for 2 times, as the category 461 for 1 time and so on."
   ]
  },
  {
   "cell_type": "markdown",
   "metadata": {},
   "source": [
    "### 1.4 Identify the easily confusable categories "
   ]
  },
  {
   "cell_type": "code",
   "execution_count": 85,
   "metadata": {
    "collapsed": true
   },
   "outputs": [],
   "source": [
    "subsets = {} # the keys are the indices of categories from 0 to 5269, the values are lists that contain the categories themself and their corresponding easily confusable categories\n",
    "\n",
    "# If category_m is misclassified as category_n for more than one times in the training and test set\n",
    "# category_m will be added to the list of easily confusable categories of category_n located at subsets[category_n]:\n",
    "for i in range(5270):\n",
    "    confusions = matrix_total_c[i]\n",
    "    if len(confusions)>1: \n",
    "        subsets[i] = [n[0] for n in confusions if n[1] > 1]\n",
    "        if len(subsets[i]) < 2:\n",
    "            subsets[i] = None\n",
    "    else:\n",
    "        subsets[i] =  None"
   ]
  },
  {
   "cell_type": "code",
   "execution_count": 78,
   "metadata": {},
   "outputs": [
    {
     "data": {
      "text/plain": [
       "<matplotlib.axes._subplots.AxesSubplot at 0x7f8e86338ef0>"
      ]
     },
     "execution_count": 78,
     "metadata": {},
     "output_type": "execute_result"
    },
    {
     "data": {
      "image/png": "[encoded data removed]",
      "text/plain": [
       "<matplotlib.figure.Figure at 0x7f8e86308ba8>"
      ]
     },
     "metadata": {},
     "output_type": "display_data"
    }
   ],
   "source": [
    "# Calculate the number of easily confusable categories for each category\n",
    "matrix_len = pd.Series([len(subsets[k]) if isinstance(subsets[k], list) else 0 for k in subsets.keys()], name=\"number of easily confusable categories\")\n",
    "\n",
    "# Visualize the distribution of the number of easily confusable categories across\n",
    "sns.distplot(matrix_len)"
   ]
  },
  {
   "cell_type": "markdown",
   "metadata": {},
   "source": [
    "## 2. Train the sets of xgboost classifiers for each category among its easily confusable categories\n",
    "### 2.1 Load the previously calculated bottleneck features"
   ]
  },
  {
   "cell_type": "code",
   "execution_count": 11,
   "metadata": {
    "collapsed": true
   },
   "outputs": [],
   "source": [
    "from pickle import load\n",
    "\n",
    "with open('bnfeature/train_fine_3fs.pickle', 'rb') as f:\n",
    "    bnf_train = load(f)"
   ]
  },
  {
   "cell_type": "markdown",
   "metadata": {},
   "source": [
    "### 2.2 Tune and setup the hyper-parameters for training the xgboost classifiers\n",
    "#### 2.2a Tune the hyper-parameters"
   ]
  },
  {
   "cell_type": "code",
   "execution_count": 1,
   "metadata": {
    "collapsed": true
   },
   "outputs": [],
   "source": [
    "import xgboost as xgb\n",
    "from xgboost.sklearn import XGBClassifier\n",
    "from sklearn.model_selection import GridSearchCV\n",
    "\n",
    "seed = 42\n",
    "params_grid = dict(max_depth=[1,2,3], n_estimators=[5,10,25,50], learning_rate=[0.1,0.3,0.9])\n",
    "\n",
    "params_fixed = dict(objective='multi:softmax', silent=1)\n",
    "bst_grid = GridSearchCV(estimator=XGBClassifier(**params_fixed, seed=seed),\n",
    "                       param_grid=param_grid)"
   ]
  },
  {
   "cell_type": "code",
   "execution_count": null,
   "metadata": {
    "collapsed": true
   },
   "outputs": [],
   "source": [
    "# The hyper-parameter tuning will be performed on a reduced training set\n",
    "# which consists of all the training samples from category 0 and those from\n",
    "# the easily confusable categories of category 0\n",
    "\n",
    "\n",
    "cat_tune = 0\n",
    "cats = subsets[cat_tune] # Category 0 and its easily confusable categories\n",
    "train_x, train_y= [], []\n",
    "\n",
    "# Establish the reduced training set to discriminate category 0 and \n",
    "# its easily confusable categories\n",
    "\n",
    "for nr, cat in enumerate(cats):\n",
    "    bnf_sec = bnf_train[cat]\n",
    "    bnf_sec = [list(bnf) for bnf in bnf_sec]\n",
    "    train_x+=(bnf_sec)\n",
    "    train_y+=[nr]*len(bnf_sec)\n",
    "\n",
    "train_x = np.array(train_x)\n",
    "train_y = np.array(train_y)  \n",
    "\n",
    "xg_train = xgb.DMatrix(train_x, label=train_y)"
   ]
  },
  {
   "cell_type": "code",
   "execution_count": null,
   "metadata": {
    "collapsed": true
   },
   "outputs": [],
   "source": [
    "bst_grid.fit(train_x, train_y)"
   ]
  },
  {
   "cell_type": "markdown",
   "metadata": {},
   "source": [
    "#### 2.2b Use the tuned hyper-parameters"
   ]
  },
  {
   "cell_type": "code",
   "execution_count": 12,
   "metadata": {
    "collapsed": true
   },
   "outputs": [],
   "source": [
    "param = {}\n",
    "\n",
    "param['objective'] = 'multi:softmax'\n",
    "param['eta'] = 0.3\n",
    "param['max_depth'] = 3\n",
    "param['silent'] = 1\n",
    "param['tree_method'] = 'auto'"
   ]
  },
  {
   "cell_type": "markdown",
   "metadata": {},
   "source": [
    "### 2.3 Train the sets of XGBoost classifiers"
   ]
  },
  {
   "cell_type": "code",
   "execution_count": null,
   "metadata": {},
   "outputs": [],
   "source": [
    "from random import shuffle\n",
    "from sklearn.decomposition import PCA\n",
    "\n",
    "cats_total = 5270 # train a xgboost classifier for each category\n",
    "batch_size = 50 # organize the training process in batches of 50 categories\n",
    "batch_n = int(np.ceil(cats_total/batch_size)) # total number of batches\n",
    "\n",
    "for m in tqdm(range(0, batch_n)):\n",
    "    classifiers = []  \n",
    "    begin = m*batch_size\n",
    "    if m == batch_n-1:\n",
    "        end = 5270\n",
    "    else:\n",
    "        end = (m+1)*batch_size\n",
    "    for i in range(begin, end):\n",
    "        print(\"Train the classifier for category %d\" % i)\n",
    "        # Get the list that includes category i and its easy confusable categories\n",
    "        cats = subsets[i] \n",
    "\n",
    "        if isinstance(cats,list):\n",
    "            train_x, train_y= [], []\n",
    "            \n",
    "            # To establish a reduced training set for each category,\n",
    "            # where only the training samples from this category\n",
    "            for nr, cat in enumerate(cats):\n",
    "                bnf_sec = bnf_train[cat]\n",
    "                bnf_sec = [list(bnf) for bnf in bnf_sec]\n",
    "                train_x+=(bnf_sec)\n",
    "                train_y+=[nr]*len(bnf_sec)\n",
    "\n",
    "            train_x = np.array(train_x)\n",
    "            train_y = np.array(train_y)  \n",
    "   \n",
    "            xg_train = xgb.DMatrix(train_x, label=train_y)\n",
    "\n",
    "            num_round = 50\n",
    "            param['num_class'] = len(cats)\n",
    "\n",
    "            bst = xgb.train(param, xg_train, num_round)\n",
    "            \n",
    "            item = {} \n",
    "            item['cats'] = cats \n",
    "            item['clf'] = bst\n",
    "            classifiers.append(item)\n",
    "\n",
    "            classifiers.append(classifiers[cats])\n",
    "        else:\n",
    "            classifiers.append(None)\n",
    "    \n",
    "    # Save the trained classifiers periodically to prevent data loss due to expected interruptions\n",
    "    with open(\"classifiers/classifier_batch_%d\" %m, 'wb') as f:\n",
    "        dump(classifiers, f, HIGHEST_PROTOCOL)"
   ]
  },
  {
   "cell_type": "markdown",
   "metadata": {},
   "source": [
    "## 3. Connect the stage II classifiers with the previously trained ResNet50 model to make predictions\n",
    "### 3.1 Load the previously trained ResNet50 model"
   ]
  },
  {
   "cell_type": "code",
   "execution_count": 2,
   "metadata": {},
   "outputs": [
    {
     "name": "stderr",
     "output_type": "stream",
     "text": [
      "Using TensorFlow backend.\n",
      "/home/jin/anaconda3/lib/python3.6/importlib/_bootstrap.py:219: RuntimeWarning: compiletime version 3.5 of module 'tensorflow.python.framework.fast_tensor_util' does not match runtime version 3.6\n",
      "  return f(*args, **kwds)\n"
     ]
    }
   ],
   "source": [
    "from keras.models import load_model\n",
    "\n",
    "model = load_model('weights/fullmodel.best.fine3.hdf5')"
   ]
  },
  {
   "cell_type": "markdown",
   "metadata": {},
   "source": [
    "### 3.2 Configurate the model so that it will output both the bottleneck features and the probabilities for each category"
   ]
  },
  {
   "cell_type": "code",
   "execution_count": 4,
   "metadata": {},
   "outputs": [
    {
     "name": "stderr",
     "output_type": "stream",
     "text": [
      "/home/jin/anaconda3/lib/python3.6/site-packages/ipykernel_launcher.py:3: UserWarning: Update your `Model` call to the Keras 2 API: `Model(inputs=Tensor(\"in..., outputs=[<tf.Tenso...)`\n",
      "  This is separate from the ipykernel package so we can avoid doing imports until\n"
     ]
    }
   ],
   "source": [
    "from keras.models import Model\n",
    "output = [model.layers[-2].output, model.output]\n",
    "model1 = Model(input=model.input, output=output)"
   ]
  },
  {
   "cell_type": "markdown",
   "metadata": {},
   "source": [
    "### 3.3 Prepare the interface that reads image files into the corresponding matrices of pixel values"
   ]
  },
  {
   "cell_type": "code",
   "execution_count": 11,
   "metadata": {
    "collapsed": true
   },
   "outputs": [],
   "source": [
    "from keras.preprocessing import image  \n",
    "import numpy as np\n",
    "\n",
    "\n",
    "def path_to_tensor(img_path):\n",
    "    # loads RGB image as PIL.Image.Image type\n",
    "    img = image.load_img(img_path, target_size=(224, 224))\n",
    "\n",
    "    x = image.img_to_array(img)\n",
    "    return np.expand_dims(x, axis=0)\n",
    "\n",
    "def paths_to_tensor(img_paths):\n",
    "    list_of_tensors = [path_to_tensor(img_path) for img_path in img_paths]\n",
    "    return np.vstack(list_of_tensors)\n",
    "\n"
   ]
  },
  {
   "cell_type": "markdown",
   "metadata": {},
   "source": [
    "### 3.4 Implement the two-stage classification methodology, which refines the prediction of the stage I ResNet50 model by a subsequent XGBoost based classification"
   ]
  },
  {
   "cell_type": "code",
   "execution_count": 3,
   "metadata": {},
   "outputs": [
    {
     "name": "stderr",
     "output_type": "stream",
     "text": [
      "Using TensorFlow backend.\n",
      "/home/jin/anaconda3/lib/python3.6/importlib/_bootstrap.py:219: RuntimeWarning: compiletime version 3.5 of module 'tensorflow.python.framework.fast_tensor_util' does not match runtime version 3.6\n",
      "  return f(*args, **kwds)\n"
     ]
    }
   ],
   "source": [
    "from keras.applications.resnet50 import preprocess_input\n",
    "def predict(paths, model1, model2,  batch_size=1000, batch_step=-1, save=True, restart=False):\n",
    "    \"\"\"Predict the category of a product based its images, by implementing the two-stage classification methodology,\n",
    "    which refines the prediction of the stage I ResNet50 model by a subsequent XGBoost based classification\n",
    "    \n",
    "    # Arguments\n",
    "        paths: the list that contains the paths of the images to be classified\n",
    "        model1: the previously trained and fine-tuned ResNet50 model in stage I\n",
    "        model2: the list of the previously trained stage II XGBoost classifiers for each category\n",
    "        batch_size: batch size of image matrices for the stage I classification based on the ResNet50 model\n",
    "        batch_step: the number of batches of the stage I classification, after which the stage II classification based on XGBoost will be performed;\n",
    "                    batch_step = -1 means that stage II classification starts only after the completion of stage I classification on the whole test set\n",
    "        save: save the predicted categories and the calculated bottleneck features during the stage I classification\n",
    "        restart: only perform the stage II classification on the precondition that the calculation in the previous stage I classification \n",
    "                 has been successfully saved (save=True).\n",
    "                 \n",
    "    # Returns  \n",
    "        a list of predicted categories (indices)           \n",
    "    \n",
    "    \"\"\"\n",
    "    n_batches = int(np.ceil(len(paths)/batch_size))\n",
    "    predictions = []\n",
    "\n",
    "    bnfs_ac = []\n",
    "    predictions_ac =[]\n",
    "    predictions_probs_ac = []\n",
    "    for n in tqdm(range(n_batches)):\n",
    "        \n",
    "        flag = 1\n",
    "        if restart:\n",
    "            if batch_step == -1:\n",
    "                if os.path.exists('prediction/predictions_ac.pickle') and os.path.exists('prediction/bnfs_ac.pickle'): \n",
    "                    flag = 0\n",
    "            else:\n",
    "                if os.path.exists('prediction/predictions_ac_%d.pickle' % int((n+1)/batch_step))\\\n",
    "                    and os.path.exists('prediction/bnfs_ac_%d.pickle' % int((n+1)/batch_step)):\n",
    "                    flag =0                                     \n",
    "        if flag:\n",
    "            if n != n_batches-1:\n",
    "                paths_n = paths[n*batch_size:(n+1)*batch_size]\n",
    "            else:\n",
    "                paths_n = paths[n*batch_size:]\n",
    "            X = paths_to_tensor(paths_n)\n",
    "            bnf, predictions_probs = model1.predict(preprocess_input(X))\n",
    "            predictions_1 = list(np.argmax(predictions_probs, axis=1))\n",
    "            predictions_ac += predictions_1\n",
    "            predictions_probs_ac += predictions_probs.tolist()\n",
    "            bnfs_ac += list(bnf)\n",
    "                                       \n",
    "        flag = 0\n",
    "        if batch_step == -1:\n",
    "            if n == n_batches-1:\n",
    "                flag = 1\n",
    "        elif (n+1)% batch_step == 0:\n",
    "            flag = 1\n",
    "        if flag == 1:\n",
    "            if restart:\n",
    "                if batch_step == -1:\n",
    "                    filename_prediction = 'prediction/predictions_ac.pickle'\n",
    "                    filename_bnf = 'prediction/bnfs_ac.pickle'\n",
    "                else:\n",
    "                    filename_prediction = 'predicion/predictions_ac_%d.pickle' % int((n+1)/batch_step)\n",
    "                    filename_bnf = 'prediction/bnfs_ac_%d.pickle' % int((n+1)/batch_step)\n",
    "                with open(filename_prediction, 'rb') as f:\n",
    "                    predictions_ac = load(f)\n",
    "                with open(filename_bnf, 'rb') as f:\n",
    "                    bnfs_ac = load(f)\n",
    "            elif save:\n",
    "                if batch_step == -1:\n",
    "                    filename_prediction = 'prediction/predictions_ac.pickle'\n",
    "                    filename_prediction_probs = 'prediction/predictions_probs_ac.pickle'\n",
    "                    filename_bnf = 'prediction/bnfs_ac.pickle'\n",
    "                else:\n",
    "                    filename_prediction = 'prediction/predictions_ac_%d.pickle' % int((n+1)/batch_step)\n",
    "                    filename_prediction_probs = 'prediction/predictions_probs_ac_%d.pickle' % int((n+1)/batch_step)\n",
    "                    filename_bnf = 'prediction/bnfs_ac_%d.pickle' % int((n+1)/batch_step)\n",
    "                with open(filename_prediction, 'wb') as f:\n",
    "                    dump(predictions_ac,f, HIGHEST_PROTOCOL)\n",
    "                with open(filename_prediction_probs, 'wb') as f:\n",
    "                    dump(predictions_probs_ac,f, HIGHEST_PROTOCOL)\n",
    "                with open(filename_bnf, 'wb') as f:\n",
    "                    dump(bnfs_ac,f, HIGHEST_PROTOCOL)\n",
    "            section = {}\n",
    "            for i, bnf in enumerate(bnfs_ac):\n",
    "                cat = predictions_ac[i]\n",
    "                if cat not in section.keys():\n",
    "                    section[cat] = []\n",
    "                section[cat].append([bnf.tolist(), i])\n",
    "                \n",
    "            predictions_ = [0]*len(bnfs_ac)\n",
    "            for cat in section.keys():\n",
    "                data = list(zip(*section[cat]))\n",
    "                \n",
    "                X = np.array(data[0]).reshape(len(data[0]),2048)\n",
    "                indices = data[1]\n",
    "                if model2[cat]:\n",
    "                    cats = model2[cat]['cats']\n",
    "                    clf = model2[cat]['clf']\n",
    "                    X = xgb.DMatrix(X)\n",
    "                    pred_label = clf.predict(X).astype('int')\n",
    "                    for j in range(len(data[0])):\n",
    "                        predictions_[indices[j]] = cats[pred_label[j]]\n",
    "                else:\n",
    "                    for j in range(len(data[0])):\n",
    "                        predictions_[indices[j]] = cat\n",
    "            bnfs_ac = []\n",
    "            predictions_ac = []\n",
    "            predictions += predictions_\n",
    "\n",
    "    return np.array(predictions)"
   ]
  },
  {
   "cell_type": "markdown",
   "metadata": {},
   "source": [
    "### 3.5 Test the performance of this combined model (stage I + stage II) on the test set"
   ]
  },
  {
   "cell_type": "code",
   "execution_count": 7,
   "metadata": {},
   "outputs": [
    {
     "name": "stderr",
     "output_type": "stream",
     "text": [
      "100%|██████████| 129/129 [00:22<00:00,  5.84it/s]\n"
     ]
    }
   ],
   "source": [
    "with open('datasets/test_i1.pickle', 'rb') as f:\n",
    "    test_set = np.array(load(f))\n",
    "\n",
    "features, labels = test_set[:,0], test_set[:,1]\n",
    "labels= labels.astype('int')\n",
    "predictions = predict(features, None, classifiers, batch_size = 1000, batch_step=-1, restart=True)"
   ]
  },
  {
   "cell_type": "code",
   "execution_count": 49,
   "metadata": {},
   "outputs": [
    {
     "name": "stdout",
     "output_type": "stream",
     "text": [
      "accuracy:  0.44353504775\n"
     ]
    }
   ],
   "source": [
    "print('accuracy: ', sum(predictions == labels)/len(labels))"
   ]
  }
 ],
 "metadata": {
  "kernelspec": {
   "display_name": "Python 3",
   "language": "python",
   "name": "python3"
  },
  "language_info": {
   "codemirror_mode": {
    "name": "ipython",
    "version": 3
   },
   "file_extension": ".py",
   "mimetype": "text/x-python",
   "name": "python",
   "nbconvert_exporter": "python",
   "pygments_lexer": "ipython3",
   "version": "3.6.4"
  }
 },
 "nbformat": 4,
 "nbformat_minor": 2
}
